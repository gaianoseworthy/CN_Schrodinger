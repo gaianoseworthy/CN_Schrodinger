{
 "cells": [
  {
   "cell_type": "code",
   "execution_count": 7,
   "id": "3312084e-5475-4d44-8db4-c90bb6bdba84",
   "metadata": {},
   "outputs": [],
   "source": [
    "import numpy as np\n",
    "from scipy import sparse as sp\n",
    "from scipy.sparse import linalg as spla\n",
    "import matplotlib.pyplot as plt\n",
    "\n",
    "#Define function that takes in some wavefunction, potential, minx, maxx, dx, mint, maxt, dt\n",
    "def sch_solve(psi_init,  \n",
    "              minx = 0, maxx = 10, nx = 10, x0 = 5, sigmax=0.1, vx=0,\n",
    "              miny = 0, maxy = 10, ny = 10, y0 = 5, sigmay=0.1, vy=0,\n",
    "              mint = 0, maxt = 10, N = 200, m1 = 1, m2 = 1, lam = 1):\n",
    "\n",
    "    #Define X and Y matrices\n",
    "    x = np.linspace(minx, maxx, nx+2)[1:nx+1]\n",
    "    y = np.linspace(miny, maxy, ny+2)[1:ny+1]\n",
    "    hx = x[1] - x[0]\n",
    "    hy = y[1] - y[0]\n",
    "\n",
    "    #Set up initial data\n",
    "    X,Y = np.meshgrid(x,y)\n",
    "    Z = psi_init(X,Y,x0,y0,vx,vy,sigmax,sigmay)\n",
    "\n",
    "    #Set up zeros for psi\n",
    "    psi = np.zeros((N+1,nx * ny), dtype = 'complex')\n",
    "    psi[0,:] = np.reshape(Z,nx*ny,order='C')\n",
    "\n",
    "    #Normalize\n",
    "    norm = hy*hx*np.vdot(psi[0,:], psi[0,:])\n",
    "    psi[0,:] = norm**(-0.5)*psi[0,:]\n",
    "\n",
    "    #Define x and y propely\n",
    "    Px2 = (1/(2*m1))*sp.diags([1/hx**2, -2/hx**2, 1/hx**2], [-1, 0, 1], shape=(nx, nx))\n",
    "    Py2 = (1/(2*m2))*sp.diags([1/hy**2, -2/hy**2, 1/hy**2], [-1, 0, 1], shape=(ny, ny))\n",
    "    Y2 = sp.diags(np.vectorize(lambda x : x**2)(y))\n",
    "    PotXmY = sp.diags(np.vectorize(lambda x,y,lam : lam*np.exp(x-y))(x,y,lam))\n",
    "\n",
    "    #Build the official A matrix \n",
    "    fnd = 1j*(sp.kron(sp.identity(ny),Px2) - sp.kron(Py2, sp.identity(nx)))\n",
    "    fnd = fnd + 1j*((1/(2*m2))*Y2)\n",
    "    fnd = fnd + 1j * PotXmY\n",
    "    A = sps.identity(nx*ny) - (fnd)*(maxt/(2*N))\n",
    "    B = sps.identity(nx*ny) + (fnd)*(maxt/(2*N))\n",
    "\n",
    "    #Run the CN scheme to solve\n",
    "    for t in range(1,N):\n",
    "        b = B.dot(psi[t-1,:])\n",
    "        psi[i,:] = spla.spsolve(A,b)\n",
    "\n",
    "    #Return results\n",
    "    return(psi)\n",
    "\n",
    "\n",
    "#Set up primary wavefunction defining function\n",
    "def wavefunction(x, y, x0, y0, vx, vy, sigmax, sigmay):\n",
    "    return(np.exp(-vx*1j*x)*np.exp(-vy*1j*y)*np.exp(-(x-x0)**2/4/sigmax**2)*np.exp(-(y-y0)**2/4/sigmay**2))\n",
    "\n",
    "#def plotCNContour(data, mint, maxt, dt, minx, maxx, dx, phi):\n",
    "#    M = np.trunc((maxx-minx)/dx).astype(int)\n",
    "#    N = np.trunc((maxt-mint)/dt).astype(int)#\n",
    "#\n",
    "#    X = np.linspace(minx, stop = maxx-dx, num = M)*2*np.pi/maxx\n",
    "#    T = np.linspace(mint, stop = maxt-dx, num = N)\n",
    "#    absdat = np.square(np.abs(data))\n",
    "#    absphi = -np.real(phi)\n",
    "#   \n",
    "#    maxPsi = np.max(absdat)\n",
    "#    if(maxPsi > 2):\n",
    "#        maxPsi = 2\n",
    "#    maxPhi = np.max(absphi)\n",
    "#    \n",
    "#    ratio = maxPsi/maxPhi\n",
    "#\n",
    "#    X, T = np.meshgrid(X,T)\n",
    "#    fig, ax = plt.subplots()\n",
    "#    cs = ax.contour(X,T,absdat, levels = 15)\n",
    "#    ax.set_title(r\"$|\\Psi(x,t)|^2$\")\n",
    "#    ax.set_xlabel(r\"Position\")\n",
    "#    ax.set_ylabel(r\"Time (t)\")"
   ]
  },
  {
   "cell_type": "code",
   "execution_count": 8,
   "id": "08621d0a-cdbd-4683-98a6-242c2d4625eb",
   "metadata": {},
   "outputs": [
    {
     "ename": "ValueError",
     "evalue": "inconsistent shapes",
     "output_type": "error",
     "traceback": [
      "\u001b[0;31m---------------------------------------------------------------------------\u001b[0m",
      "\u001b[0;31mValueError\u001b[0m                                Traceback (most recent call last)",
      "Cell \u001b[0;32mIn[8], line 6\u001b[0m\n\u001b[1;32m      1\u001b[0m \u001b[38;5;66;03m#ORDER OF VARIABLES\u001b[39;00m\n\u001b[1;32m      2\u001b[0m \u001b[38;5;66;03m#psi_init,  \u001b[39;00m\n\u001b[1;32m      3\u001b[0m \u001b[38;5;66;03m#minx = 0, maxx = 10, nx = 10, x0 = 5, sigmax=0.1, vx=0,\u001b[39;00m\n\u001b[1;32m      4\u001b[0m \u001b[38;5;66;03m#miny = 0, maxy = 10, xy = 10, y0 = 5, sigmay=0.1, vy=0,\u001b[39;00m\n\u001b[1;32m      5\u001b[0m \u001b[38;5;66;03m#mint = 0, maxt = 10, N = 200, m1 = 1, m2 = 1, lam = 1\u001b[39;00m\n\u001b[0;32m----> 6\u001b[0m psi \u001b[38;5;241m=\u001b[39m np\u001b[38;5;241m.\u001b[39mabs(\u001b[43msch_solve\u001b[49m\u001b[43m(\u001b[49m\u001b[43mwavefunction\u001b[49m\u001b[43m)\u001b[49m)\u001b[38;5;241m*\u001b[39m\u001b[38;5;241m*\u001b[39m\u001b[38;5;241m2\u001b[39m\n",
      "Cell \u001b[0;32mIn[7], line 39\u001b[0m, in \u001b[0;36msch_solve\u001b[0;34m(psi_init, minx, maxx, nx, x0, sigmax, vx, miny, maxy, ny, y0, sigmay, vy, mint, maxt, N, m1, m2, lam)\u001b[0m\n\u001b[1;32m     37\u001b[0m \u001b[38;5;66;03m#Build the official A matrix \u001b[39;00m\n\u001b[1;32m     38\u001b[0m fnd \u001b[38;5;241m=\u001b[39m \u001b[38;5;241m1\u001b[39mj\u001b[38;5;241m*\u001b[39m(sp\u001b[38;5;241m.\u001b[39mkron(sp\u001b[38;5;241m.\u001b[39midentity(ny),Px2) \u001b[38;5;241m-\u001b[39m sp\u001b[38;5;241m.\u001b[39mkron(Py2, sp\u001b[38;5;241m.\u001b[39midentity(nx)))\n\u001b[0;32m---> 39\u001b[0m fnd \u001b[38;5;241m=\u001b[39m \u001b[43mfnd\u001b[49m\u001b[43m \u001b[49m\u001b[38;5;241;43m+\u001b[39;49m\u001b[43m \u001b[49m\u001b[38;5;241;43m1\u001b[39;49m\u001b[43mj\u001b[49m\u001b[38;5;241;43m*\u001b[39;49m\u001b[43m(\u001b[49m\u001b[43m(\u001b[49m\u001b[38;5;241;43m1\u001b[39;49m\u001b[38;5;241;43m/\u001b[39;49m\u001b[43m(\u001b[49m\u001b[38;5;241;43m2\u001b[39;49m\u001b[38;5;241;43m*\u001b[39;49m\u001b[43mm2\u001b[49m\u001b[43m)\u001b[49m\u001b[43m)\u001b[49m\u001b[38;5;241;43m*\u001b[39;49m\u001b[43mY2\u001b[49m\u001b[43m)\u001b[49m\n\u001b[1;32m     40\u001b[0m fnd \u001b[38;5;241m=\u001b[39m fnd \u001b[38;5;241m+\u001b[39m \u001b[38;5;241m1\u001b[39mj \u001b[38;5;241m*\u001b[39m PotXmY\n\u001b[1;32m     41\u001b[0m A \u001b[38;5;241m=\u001b[39m sps\u001b[38;5;241m.\u001b[39midentity(nx\u001b[38;5;241m*\u001b[39mny) \u001b[38;5;241m-\u001b[39m (fnd)\u001b[38;5;241m*\u001b[39m(maxt\u001b[38;5;241m/\u001b[39m(\u001b[38;5;241m2\u001b[39m\u001b[38;5;241m*\u001b[39mN))\n",
      "File \u001b[0;32m/usr/lib/python3.12/site-packages/scipy/sparse/_base.py:529\u001b[0m, in \u001b[0;36m_spbase.__add__\u001b[0;34m(self, other)\u001b[0m\n\u001b[1;32m    527\u001b[0m \u001b[38;5;28;01melif\u001b[39;00m issparse(other):\n\u001b[1;32m    528\u001b[0m     \u001b[38;5;28;01mif\u001b[39;00m other\u001b[38;5;241m.\u001b[39mshape \u001b[38;5;241m!=\u001b[39m \u001b[38;5;28mself\u001b[39m\u001b[38;5;241m.\u001b[39mshape:\n\u001b[0;32m--> 529\u001b[0m         \u001b[38;5;28;01mraise\u001b[39;00m \u001b[38;5;167;01mValueError\u001b[39;00m(\u001b[38;5;124m\"\u001b[39m\u001b[38;5;124minconsistent shapes\u001b[39m\u001b[38;5;124m\"\u001b[39m)\n\u001b[1;32m    530\u001b[0m     \u001b[38;5;28;01mreturn\u001b[39;00m \u001b[38;5;28mself\u001b[39m\u001b[38;5;241m.\u001b[39m_add_sparse(other)\n\u001b[1;32m    531\u001b[0m \u001b[38;5;28;01melif\u001b[39;00m isdense(other):\n",
      "\u001b[0;31mValueError\u001b[0m: inconsistent shapes"
     ]
    }
   ],
   "source": [
    "#ORDER OF VARIABLES\n",
    "#psi_init,  \n",
    "#minx = 0, maxx = 10, nx = 10, x0 = 5, sigmax=0.1, vx=0,\n",
    "#miny = 0, maxy = 10, xy = 10, y0 = 5, sigmay=0.1, vy=0,\n",
    "#mint = 0, maxt = 10, N = 200, m1 = 1, m2 = 1, lam = 1\n",
    "psi = np.abs(sch_solve(wavefunction))**2"
   ]
  },
  {
   "cell_type": "code",
   "execution_count": null,
   "id": "20003f66-c951-491c-93a0-fd37ecaeaa12",
   "metadata": {},
   "outputs": [],
   "source": []
  }
 ],
 "metadata": {
  "kernelspec": {
   "display_name": "Python 3 (ipykernel)",
   "language": "python",
   "name": "python3"
  },
  "language_info": {
   "codemirror_mode": {
    "name": "ipython",
    "version": 3
   },
   "file_extension": ".py",
   "mimetype": "text/x-python",
   "name": "python",
   "nbconvert_exporter": "python",
   "pygments_lexer": "ipython3",
   "version": "3.12.3"
  }
 },
 "nbformat": 4,
 "nbformat_minor": 5
}
